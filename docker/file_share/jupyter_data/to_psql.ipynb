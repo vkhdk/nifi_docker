{
 "cells": [
  {
   "cell_type": "code",
   "execution_count": null,
   "id": "2d0b2849-d7dc-4740-93e6-85c8f32288aa",
   "metadata": {},
   "outputs": [],
   "source": [
    "import pandas as pd\n",
    "import numpy as np\n",
    "import re\n",
    "import datetime as dt\n",
    "from datetime import datetime\n",
    "import json\n",
    "from sqlalchemy.types import BigInteger, Time, Date, Float, Integer, Boolean, Text, TIMESTAMP"
   ]
  },
  {
   "cell_type": "code",
   "execution_count": null,
   "id": "7c2a4ceb-131d-48fd-9986-1f95dee25606",
   "metadata": {},
   "outputs": [],
   "source": [
    "import sys"
   ]
  },
  {
   "cell_type": "code",
   "execution_count": null,
   "id": "871b89e8-a55b-454e-b632-4d05e833a0af",
   "metadata": {},
   "outputs": [],
   "source": [
    "sys.path.append('python_scripts/')"
   ]
  },
  {
   "cell_type": "code",
   "execution_count": null,
   "id": "85186cf6-0178-4280-b922-29dcd8068924",
   "metadata": {},
   "outputs": [],
   "source": [
    "import db_connection"
   ]
  },
  {
   "cell_type": "code",
   "execution_count": null,
   "id": "663785ae-281a-4f5e-863b-ab95db403d64",
   "metadata": {},
   "outputs": [],
   "source": [
    "df = pd.read_csv('python_scripts/content.csv', sep=';')"
   ]
  },
  {
   "cell_type": "code",
   "execution_count": null,
   "id": "dc39200c-9551-4ee5-86fe-0c07aab97e06",
   "metadata": {},
   "outputs": [],
   "source": [
    "df.head(10)"
   ]
  },
  {
   "cell_type": "code",
   "execution_count": null,
   "id": "85f526cf-937c-4c67-81a6-a6296e54ec73",
   "metadata": {},
   "outputs": [],
   "source": [
    "engine = db_connection.engine\n",
    "\n",
    "weather_dtypes = {'time': Time, \n",
    "        'date': Date, \n",
    "        'temp_c': Float, \n",
    "        'temp_f': Float}"
   ]
  },
  {
   "cell_type": "code",
   "execution_count": null,
   "id": "fb34faa4-bc45-4b2b-8d7b-a79cf4d6345f",
   "metadata": {},
   "outputs": [],
   "source": [
    "weather_sql_query = '''\n",
    "CREATE TABLE IF NOT EXISTS weather_prod(\n",
    "weather_id TEXT NOT NULL PRIMARY KEY,\n",
    "date DATE NOT NULL,\n",
    "time TIME NOT NULL,\n",
    "city_name TEXT NOT NULL,\n",
    "temp_c FLOAT NOT NULL,\n",
    "temp_f FLOAT NOT NULL);\n",
    "\n",
    "INSERT INTO weather_prod (weather_id,\n",
    "        date,\n",
    "        time,\n",
    "        city_name,\n",
    "        temp_c,\n",
    "        temp_f)\n",
    "(select weather_id,\n",
    "        date,\n",
    "        time,\n",
    "        city_name,\n",
    "        temp_c,\n",
    "        temp_f\n",
    "from weather_tmp);\n",
    "    '''"
   ]
  },
  {
   "cell_type": "code",
   "execution_count": null,
   "id": "6bcbc7a6-bbec-4dc8-80ab-775aca4d6056",
   "metadata": {},
   "outputs": [],
   "source": [
    "db_connection.load_df_to_tpm_table(df, 'weather',  weather_dtypes)"
   ]
  },
  {
   "cell_type": "code",
   "execution_count": null,
   "id": "5434550f-627e-455b-b490-cf01174fd3ea",
   "metadata": {},
   "outputs": [],
   "source": [
    "db_connection.load_tmp_table_to_prod_table(weather_sql_query)"
   ]
  },
  {
   "cell_type": "code",
   "execution_count": null,
   "id": "19780e84-e53a-482d-a579-15cf625d81fd",
   "metadata": {},
   "outputs": [],
   "source": [
    "sql_query = f'select * from weather_prod'\n",
    "df_from_db = pd.read_sql_query(sql_query, con=engine)"
   ]
  },
  {
   "cell_type": "code",
   "execution_count": null,
   "id": "be880ae4-1772-46a4-81df-194016636277",
   "metadata": {},
   "outputs": [],
   "source": [
    "df_from_db"
   ]
  }
 ],
 "metadata": {
  "kernelspec": {
   "display_name": "Python 3 (ipykernel)",
   "language": "python",
   "name": "python3"
  },
  "language_info": {
   "codemirror_mode": {
    "name": "ipython",
    "version": 3
   },
   "file_extension": ".py",
   "mimetype": "text/x-python",
   "name": "python",
   "nbconvert_exporter": "python",
   "pygments_lexer": "ipython3",
   "version": "3.9.10"
  }
 },
 "nbformat": 4,
 "nbformat_minor": 5
}
