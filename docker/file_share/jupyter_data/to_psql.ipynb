{
 "cells": [
  {
   "cell_type": "code",
   "execution_count": 1,
   "id": "2d0b2849-d7dc-4740-93e6-85c8f32288aa",
   "metadata": {},
   "outputs": [],
   "source": [
    "import pandas as pd\n",
    "import numpy as np\n",
    "import re\n",
    "import datetime as dt\n",
    "from datetime import datetime\n",
    "import json\n",
    "from sqlalchemy.types import BigInteger, Time, Date, Float, Integer, Boolean, Text, TIMESTAMP"
   ]
  },
  {
   "cell_type": "code",
   "execution_count": 2,
   "id": "7c2a4ceb-131d-48fd-9986-1f95dee25606",
   "metadata": {},
   "outputs": [],
   "source": [
    "import sys"
   ]
  },
  {
   "cell_type": "code",
   "execution_count": 3,
   "id": "871b89e8-a55b-454e-b632-4d05e833a0af",
   "metadata": {},
   "outputs": [],
   "source": [
    "sys.path.append('python_scripts/')"
   ]
  },
  {
   "cell_type": "code",
   "execution_count": 4,
   "id": "85186cf6-0178-4280-b922-29dcd8068924",
   "metadata": {},
   "outputs": [],
   "source": [
    "import db_connection"
   ]
  },
  {
   "cell_type": "code",
   "execution_count": 13,
   "id": "663785ae-281a-4f5e-863b-ab95db403d64",
   "metadata": {},
   "outputs": [],
   "source": [
    "df = pd.read_csv('python_scripts/content.csv', sep=';')"
   ]
  },
  {
   "cell_type": "code",
   "execution_count": 14,
   "id": "dc39200c-9551-4ee5-86fe-0c07aab97e06",
   "metadata": {},
   "outputs": [
    {
     "data": {
      "text/html": [
       "<div>\n",
       "<style scoped>\n",
       "    .dataframe tbody tr th:only-of-type {\n",
       "        vertical-align: middle;\n",
       "    }\n",
       "\n",
       "    .dataframe tbody tr th {\n",
       "        vertical-align: top;\n",
       "    }\n",
       "\n",
       "    .dataframe thead th {\n",
       "        text-align: right;\n",
       "    }\n",
       "</style>\n",
       "<table border=\"1\" class=\"dataframe\">\n",
       "  <thead>\n",
       "    <tr style=\"text-align: right;\">\n",
       "      <th></th>\n",
       "      <th>weather_id</th>\n",
       "      <th>date</th>\n",
       "      <th>time</th>\n",
       "      <th>city_name</th>\n",
       "      <th>temp_c</th>\n",
       "      <th>temp_f</th>\n",
       "    </tr>\n",
       "  </thead>\n",
       "  <tbody>\n",
       "    <tr>\n",
       "      <th>0</th>\n",
       "      <td>202301-3111-1137-63b38217-d105-446c-813e-2a5b5...</td>\n",
       "      <td>2023-01-31</td>\n",
       "      <td>11:11:37.725363</td>\n",
       "      <td>Moscow</td>\n",
       "      <td>0.0</td>\n",
       "      <td>32.0</td>\n",
       "    </tr>\n",
       "    <tr>\n",
       "      <th>1</th>\n",
       "      <td>202301-3111-1138-335b50a3-106d-43df-b068-ead19...</td>\n",
       "      <td>2023-01-31</td>\n",
       "      <td>11:11:38.966144</td>\n",
       "      <td>London</td>\n",
       "      <td>9.0</td>\n",
       "      <td>48.0</td>\n",
       "    </tr>\n",
       "    <tr>\n",
       "      <th>2</th>\n",
       "      <td>202301-3111-1220-8983c99b-1dfb-4ec9-b84d-f684c...</td>\n",
       "      <td>2023-01-31</td>\n",
       "      <td>11:12:20.495912</td>\n",
       "      <td>Moscow</td>\n",
       "      <td>0.0</td>\n",
       "      <td>32.0</td>\n",
       "    </tr>\n",
       "    <tr>\n",
       "      <th>3</th>\n",
       "      <td>202301-3111-1221-5a424e50-eb1b-4254-9307-0b063...</td>\n",
       "      <td>2023-01-31</td>\n",
       "      <td>11:12:21.698796</td>\n",
       "      <td>London</td>\n",
       "      <td>9.0</td>\n",
       "      <td>48.0</td>\n",
       "    </tr>\n",
       "    <tr>\n",
       "      <th>4</th>\n",
       "      <td>202301-3114-5648-78fa2de4-0ccd-49c5-9ae2-80e79...</td>\n",
       "      <td>2023-01-31</td>\n",
       "      <td>14:56:48.598630</td>\n",
       "      <td>Moscow</td>\n",
       "      <td>0.0</td>\n",
       "      <td>32.0</td>\n",
       "    </tr>\n",
       "  </tbody>\n",
       "</table>\n",
       "</div>"
      ],
      "text/plain": [
       "                                          weather_id        date  \\\n",
       "0  202301-3111-1137-63b38217-d105-446c-813e-2a5b5...  2023-01-31   \n",
       "1  202301-3111-1138-335b50a3-106d-43df-b068-ead19...  2023-01-31   \n",
       "2  202301-3111-1220-8983c99b-1dfb-4ec9-b84d-f684c...  2023-01-31   \n",
       "3  202301-3111-1221-5a424e50-eb1b-4254-9307-0b063...  2023-01-31   \n",
       "4  202301-3114-5648-78fa2de4-0ccd-49c5-9ae2-80e79...  2023-01-31   \n",
       "\n",
       "              time city_name  temp_c  temp_f  \n",
       "0  11:11:37.725363    Moscow     0.0    32.0  \n",
       "1  11:11:38.966144    London     9.0    48.0  \n",
       "2  11:12:20.495912    Moscow     0.0    32.0  \n",
       "3  11:12:21.698796    London     9.0    48.0  \n",
       "4  14:56:48.598630    Moscow     0.0    32.0  "
      ]
     },
     "execution_count": 14,
     "metadata": {},
     "output_type": "execute_result"
    }
   ],
   "source": [
    "df.head()"
   ]
  },
  {
   "cell_type": "code",
   "execution_count": 16,
   "id": "85f526cf-937c-4c67-81a6-a6296e54ec73",
   "metadata": {},
   "outputs": [],
   "source": [
    "engine = db_connection.engine\n",
    "\n",
    "weather_dtypes = {'time': Time, \n",
    "        'date': Date, \n",
    "        'temp_c': Float, \n",
    "        'temp_f': Float}"
   ]
  },
  {
   "cell_type": "code",
   "execution_count": 17,
   "id": "fb34faa4-bc45-4b2b-8d7b-a79cf4d6345f",
   "metadata": {},
   "outputs": [],
   "source": [
    "weather_sql_query = '''\n",
    "CREATE TABLE IF NOT EXISTS weather_prod(\n",
    "weather_id TEXT NOT NULL PRIMARY KEY,\n",
    "date DATE NOT NULL,\n",
    "time TIME NOT NULL,\n",
    "city_name TEXT NOT NULL,\n",
    "temp_c FLOAT NOT NULL,\n",
    "temp_f FLOAT NOT NULL);\n",
    "\n",
    "INSERT INTO weather_prod (weather_id,\n",
    "        date,\n",
    "        time,\n",
    "        city_name,\n",
    "        temp_c,\n",
    "        temp_f)\n",
    "(select weather_id,\n",
    "        date,\n",
    "        time,\n",
    "        city_name,\n",
    "        temp_c,\n",
    "        temp_f\n",
    "from weather_tmp);\n",
    "    '''"
   ]
  },
  {
   "cell_type": "code",
   "execution_count": 19,
   "id": "6bcbc7a6-bbec-4dc8-80ab-775aca4d6056",
   "metadata": {},
   "outputs": [
    {
     "name": "stdout",
     "output_type": "stream",
     "text": [
      "weather loading into DB...\n",
      "weather_tmp loaded\n"
     ]
    }
   ],
   "source": [
    "db_connection.load_df_to_tpm_table(df, 'weather',  weather_dtypes)"
   ]
  },
  {
   "cell_type": "code",
   "execution_count": 20,
   "id": "5434550f-627e-455b-b490-cf01174fd3ea",
   "metadata": {},
   "outputs": [],
   "source": [
    "db_connection.load_tmp_table_to_prod_table(weather_sql_query)"
   ]
  },
  {
   "cell_type": "code",
   "execution_count": 25,
   "id": "19780e84-e53a-482d-a579-15cf625d81fd",
   "metadata": {},
   "outputs": [],
   "source": [
    "sql_query = f'select * from weather_prod'\n",
    "df_from_db = pd.read_sql_query(sql_query, con=engine)"
   ]
  },
  {
   "cell_type": "code",
   "execution_count": 26,
   "id": "be880ae4-1772-46a4-81df-194016636277",
   "metadata": {},
   "outputs": [
    {
     "data": {
      "text/html": [
       "<div>\n",
       "<style scoped>\n",
       "    .dataframe tbody tr th:only-of-type {\n",
       "        vertical-align: middle;\n",
       "    }\n",
       "\n",
       "    .dataframe tbody tr th {\n",
       "        vertical-align: top;\n",
       "    }\n",
       "\n",
       "    .dataframe thead th {\n",
       "        text-align: right;\n",
       "    }\n",
       "</style>\n",
       "<table border=\"1\" class=\"dataframe\">\n",
       "  <thead>\n",
       "    <tr style=\"text-align: right;\">\n",
       "      <th></th>\n",
       "      <th>weather_id</th>\n",
       "      <th>date</th>\n",
       "      <th>time</th>\n",
       "      <th>city_name</th>\n",
       "      <th>temp_c</th>\n",
       "      <th>temp_f</th>\n",
       "    </tr>\n",
       "  </thead>\n",
       "  <tbody>\n",
       "    <tr>\n",
       "      <th>0</th>\n",
       "      <td>202301-3111-1137-63b38217-d105-446c-813e-2a5b5...</td>\n",
       "      <td>2023-01-31</td>\n",
       "      <td>11:11:37.725363</td>\n",
       "      <td>Moscow</td>\n",
       "      <td>0.0</td>\n",
       "      <td>32.0</td>\n",
       "    </tr>\n",
       "    <tr>\n",
       "      <th>1</th>\n",
       "      <td>202301-3111-1138-335b50a3-106d-43df-b068-ead19...</td>\n",
       "      <td>2023-01-31</td>\n",
       "      <td>11:11:38.966144</td>\n",
       "      <td>London</td>\n",
       "      <td>9.0</td>\n",
       "      <td>48.0</td>\n",
       "    </tr>\n",
       "    <tr>\n",
       "      <th>2</th>\n",
       "      <td>202301-3111-1220-8983c99b-1dfb-4ec9-b84d-f684c...</td>\n",
       "      <td>2023-01-31</td>\n",
       "      <td>11:12:20.495912</td>\n",
       "      <td>Moscow</td>\n",
       "      <td>0.0</td>\n",
       "      <td>32.0</td>\n",
       "    </tr>\n",
       "    <tr>\n",
       "      <th>3</th>\n",
       "      <td>202301-3111-1221-5a424e50-eb1b-4254-9307-0b063...</td>\n",
       "      <td>2023-01-31</td>\n",
       "      <td>11:12:21.698796</td>\n",
       "      <td>London</td>\n",
       "      <td>9.0</td>\n",
       "      <td>48.0</td>\n",
       "    </tr>\n",
       "    <tr>\n",
       "      <th>4</th>\n",
       "      <td>202301-3114-5648-78fa2de4-0ccd-49c5-9ae2-80e79...</td>\n",
       "      <td>2023-01-31</td>\n",
       "      <td>14:56:48.598630</td>\n",
       "      <td>Moscow</td>\n",
       "      <td>0.0</td>\n",
       "      <td>32.0</td>\n",
       "    </tr>\n",
       "    <tr>\n",
       "      <th>5</th>\n",
       "      <td>202301-3114-5650-9909fa3c-fb08-4ff7-8122-488ff...</td>\n",
       "      <td>2023-01-31</td>\n",
       "      <td>14:56:50.224627</td>\n",
       "      <td>London</td>\n",
       "      <td>11.0</td>\n",
       "      <td>52.0</td>\n",
       "    </tr>\n",
       "    <tr>\n",
       "      <th>6</th>\n",
       "      <td>202301-3114-5914-d214156e-f060-4be9-9ade-3732f...</td>\n",
       "      <td>2023-01-31</td>\n",
       "      <td>14:59:14.541966</td>\n",
       "      <td>Moscow</td>\n",
       "      <td>0.0</td>\n",
       "      <td>32.0</td>\n",
       "    </tr>\n",
       "    <tr>\n",
       "      <th>7</th>\n",
       "      <td>202301-3114-5915-1a4498b3-ba61-4e80-82c4-703c8...</td>\n",
       "      <td>2023-01-31</td>\n",
       "      <td>14:59:15.815832</td>\n",
       "      <td>London</td>\n",
       "      <td>11.0</td>\n",
       "      <td>52.0</td>\n",
       "    </tr>\n",
       "  </tbody>\n",
       "</table>\n",
       "</div>"
      ],
      "text/plain": [
       "                                          weather_id        date  \\\n",
       "0  202301-3111-1137-63b38217-d105-446c-813e-2a5b5...  2023-01-31   \n",
       "1  202301-3111-1138-335b50a3-106d-43df-b068-ead19...  2023-01-31   \n",
       "2  202301-3111-1220-8983c99b-1dfb-4ec9-b84d-f684c...  2023-01-31   \n",
       "3  202301-3111-1221-5a424e50-eb1b-4254-9307-0b063...  2023-01-31   \n",
       "4  202301-3114-5648-78fa2de4-0ccd-49c5-9ae2-80e79...  2023-01-31   \n",
       "5  202301-3114-5650-9909fa3c-fb08-4ff7-8122-488ff...  2023-01-31   \n",
       "6  202301-3114-5914-d214156e-f060-4be9-9ade-3732f...  2023-01-31   \n",
       "7  202301-3114-5915-1a4498b3-ba61-4e80-82c4-703c8...  2023-01-31   \n",
       "\n",
       "              time city_name  temp_c  temp_f  \n",
       "0  11:11:37.725363    Moscow     0.0    32.0  \n",
       "1  11:11:38.966144    London     9.0    48.0  \n",
       "2  11:12:20.495912    Moscow     0.0    32.0  \n",
       "3  11:12:21.698796    London     9.0    48.0  \n",
       "4  14:56:48.598630    Moscow     0.0    32.0  \n",
       "5  14:56:50.224627    London    11.0    52.0  \n",
       "6  14:59:14.541966    Moscow     0.0    32.0  \n",
       "7  14:59:15.815832    London    11.0    52.0  "
      ]
     },
     "execution_count": 26,
     "metadata": {},
     "output_type": "execute_result"
    }
   ],
   "source": [
    "df_from_db"
   ]
  },
  {
   "cell_type": "code",
   "execution_count": null,
   "id": "e5ff2138-a8dc-41df-beee-67de139e1e8a",
   "metadata": {},
   "outputs": [],
   "source": []
  }
 ],
 "metadata": {
  "kernelspec": {
   "display_name": "Python 3 (ipykernel)",
   "language": "python",
   "name": "python3"
  },
  "language_info": {
   "codemirror_mode": {
    "name": "ipython",
    "version": 3
   },
   "file_extension": ".py",
   "mimetype": "text/x-python",
   "name": "python",
   "nbconvert_exporter": "python",
   "pygments_lexer": "ipython3",
   "version": "3.9.10"
  }
 },
 "nbformat": 4,
 "nbformat_minor": 5
}
